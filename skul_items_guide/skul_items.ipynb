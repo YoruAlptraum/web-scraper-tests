{
  "nbformat": 4,
  "nbformat_minor": 0,
  "metadata": {
    "colab": {
      "provenance": [],
      "authorship_tag": "ABX9TyOfW5dvRAaKDgw8CET+rv2W"
    },
    "kernelspec": {
      "name": "python3",
      "display_name": "Python 3"
    },
    "language_info": {
      "name": "python"
    }
  },
  "cells": [
    {
      "cell_type": "markdown",
      "source": [
        "# Steam Skul items list guide\n",
        "This small project is to learn more about web scraping and to make a steam guide with all Skul items with their images and effects.\n",
        "\n",
        "Steam does not seem to allow images to be displayed on their guides through links so I downloaded the images from the site with another code and will probably have to add them manually later, unless I find another alternative"
      ],
      "metadata": {
        "id": "gE86qLJRaozi"
      }
    },
    {
      "cell_type": "code",
      "execution_count": 1,
      "metadata": {
        "id": "vn9E_nd8zRs-"
      },
      "outputs": [],
      "source": [
        "import requests\n",
        "from bs4 import BeautifulSoup\n",
        "import pandas as pd"
      ]
    },
    {
      "cell_type": "code",
      "source": [
        "url = 'https://skul.fandom.com/wiki/Equipment'\n",
        "\n",
        "response = requests.get(url)\n",
        "soup = BeautifulSoup(response.text, 'html.parser')\n",
        "\n",
        "tables = soup.find_all('table', {'class': 'fandom-table'})"
      ],
      "metadata": {
        "id": "WnEh7S0t2c2J"
      },
      "execution_count": 2,
      "outputs": []
    },
    {
      "cell_type": "code",
      "source": [
        "dfs = []\n",
        "\n",
        "for table in tables[1:]:\n",
        "  df = pd.DataFrame(columns=['Equipment','InscriptionI','InscriptionII','Effect'])\n",
        "\n",
        "  for row in table.find_all('tr')[1:]:\n",
        "    new_data = []\n",
        "    for data in row.find_all('td'):\n",
        "      new_data.append(data.text.strip())\n",
        "    # add the Effect column\n",
        "    sub_url = 'https://skul.fandom.com/'+ row.find('td').find_all('a')[1]['href']\n",
        "    # print(sub_url)\n",
        "    sub_res = requests.get(sub_url)\n",
        "    sub_soup = BeautifulSoup(sub_res.text, 'html.parser')\n",
        "    effects = []\n",
        "    for li in sub_soup.find('div', {'class':'mw-parser-output'}).find_all('ul')[1].find_all('li'):\n",
        "      effects.append(li.text)\n",
        "    # [*] is used to separate effects to facilitate the creation of the steam guide\n",
        "    new_data.append('[*]'.join(effects))\n",
        "\n",
        "\n",
        "    new_row_df = pd.DataFrame([new_data], columns=df.columns)\n",
        "    df = pd.concat([df, new_row_df], axis=0, join='inner', ignore_index=True)\n",
        "  dfs.append(df)\n",
        "\n",
        "dfs[0]"
      ],
      "metadata": {
        "id": "8ygh7LXR3XbY"
      },
      "execution_count": null,
      "outputs": []
    },
    {
      "cell_type": "code",
      "source": [
        "# dfs[1].loc[dfs[1]['Equipment'] == \"Jenny's Chain Sickle\"]"
      ],
      "metadata": {
        "id": "j2QdsfU2XTJU"
      },
      "execution_count": null,
      "outputs": []
    },
    {
      "cell_type": "code",
      "source": [
        "# Add rarity column\n",
        "\n",
        "rarities = ['common', 'rare', 'unique', 'legendary', 'omen']\n",
        "for item in zip(dfs,rarities):\n",
        "  item[0]['Rarity'] = item[1].title()"
      ],
      "metadata": {
        "id": "CZDcNVkbfinO"
      },
      "execution_count": null,
      "outputs": []
    },
    {
      "cell_type": "code",
      "source": [
        "dfs[3]"
      ],
      "metadata": {
        "id": "calCAktvgTnx"
      },
      "execution_count": null,
      "outputs": []
    },
    {
      "cell_type": "code",
      "source": [],
      "metadata": {
        "id": "VzzyjSQMhW25"
      },
      "execution_count": null,
      "outputs": []
    }
  ]
}